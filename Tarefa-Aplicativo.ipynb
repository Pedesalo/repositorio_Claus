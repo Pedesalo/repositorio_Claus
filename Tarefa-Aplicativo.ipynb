{
 "cells": [
  {
   "cell_type": "code",
   "execution_count": null,
   "metadata": {},
   "outputs": [],
   "source": [
    "import pandas as pd\n",
    "import numpy as np"
   ]
  },
  {
   "cell_type": "code",
   "execution_count": null,
   "metadata": {},
   "outputs": [],
   "source": [
    "num_rows = 50\n",
    "\n",
    "data = {\n",
    "    'Produto':[f'Produto_{i}' for i in range(1, num_rows + 1)],\n",
    "    'Categoria':np.random.choice(['Televisão', 'Computador', 'Celular', 'Tablet', 'Impressora'], size=num_rows),\n",
    "    'Preço':np.random.uniform(100.0,2000.0, size=num_rows).round(2),\n",
    "    'Quantidade_Estoque':np.random.randint(1, 50, size=num_rows)\n",
    "    }"
   ]
  },
  {
   "cell_type": "code",
   "execution_count": null,
   "metadata": {},
   "outputs": [],
   "source": [
    "df=pd.DataFrame(data)   "
   ]
  },
  {
   "cell_type": "code",
   "execution_count": null,
   "metadata": {},
   "outputs": [],
   "source": [
    "df['Multiplicar']=df['Preço']*df['Quantidade_Estoque']"
   ]
  },
  {
   "cell_type": "code",
   "execution_count": null,
   "metadata": {},
   "outputs": [],
   "source": [
    "def Multiplicar2(x):\n",
    "            return x['Quantidade_Estoque'] * x['Preço']"
   ]
  },
  {
   "cell_type": "code",
   "execution_count": null,
   "metadata": {},
   "outputs": [],
   "source": [
    "df['Multiplicar2'] = df.apply(Multiplicar2,axis=1)\n",
    "df"
   ]
  },
  {
   "cell_type": "code",
   "execution_count": null,
   "metadata": {},
   "outputs": [],
   "source": [
    "df['Multiplicar2'].min()\n",
    "df['Multiplicar2'].max()\n",
    "df['Multiplicar2'].std()\n",
    "df['Multiplicar2'].median()"
   ]
  },
  {
   "cell_type": "code",
   "execution_count": null,
   "metadata": {},
   "outputs": [],
   "source": [
    "df_filtrado = df[(df['Categoria']=='Computador')]\n",
    "df_filtrado2 = df[(df['Preço']>500)&(df['Categoria']=='Computador')]\n",
    "df_filtrado3 = df[(df['Quantidade_Estoque']>40)|(df['Categoria']=='Impressora')]\n",
    "df_filtrado"
   ]
  },
  {
   "cell_type": "code",
   "execution_count": null,
   "metadata": {},
   "outputs": [],
   "source": [
    "df_filtrado = df[(df['Categoria']=='Computador')]\n",
    "df_filtrado2 = df[(df['Preço']>500)&(df['Categoria']=='Computador')]\n",
    "df_filtrado3 = df[(df['Quantidade_Estoque']>40)|(df['Categoria']=='Impressora')]\n",
    "df_filtrado2"
   ]
  },
  {
   "cell_type": "code",
   "execution_count": null,
   "metadata": {},
   "outputs": [],
   "source": [
    "df_filtrado = df[(df['Categoria']=='Computador')]\n",
    "df_filtrado2 = df[(df['Preço']>500)&(df['Categoria']=='Computador')]\n",
    "df_filtrado3 = df[(df['Quantidade_Estoque']>40)|(df['Categoria']=='Impressora')]\n",
    "df_filtrado3"
   ]
  },
  {
   "cell_type": "code",
   "execution_count": null,
   "metadata": {},
   "outputs": [],
   "source": [
    "caminho = (r'C:\\Users\\claus_katzer\\Downloads\\qualquer\\repositorio_Claus\\Teste_Pandas.xlsx')\n",
    "df.to_excel(caminho)"
   ]
  }
 ],
 "metadata": {
  "interpreter": {
   "hash": "ac59ebe37160ed0dfa835113d9b8498d9f09ceb179beaac4002f036b9467c963"
  },
  "kernelspec": {
   "display_name": "Python 3.9.7 64-bit (system)",
   "language": "python",
   "name": "python3"
  },
  "language_info": {
   "codemirror_mode": {
    "name": "ipython",
    "version": 3
   },
   "file_extension": ".py",
   "mimetype": "text/x-python",
   "name": "python",
   "nbconvert_exporter": "python",
   "pygments_lexer": "ipython3",
   "version": "3.9.7"
  },
  "orig_nbformat": 4
 },
 "nbformat": 4,
 "nbformat_minor": 2
}
